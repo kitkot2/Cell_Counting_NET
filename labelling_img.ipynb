{
 "cells": [
  {
   "cell_type": "markdown",
   "metadata": {},
   "source": [
    "Import Dependencies"
   ]
  },
  {
   "cell_type": "code",
   "execution_count": 2,
   "metadata": {},
   "outputs": [
    {
     "name": "stdout",
     "output_type": "stream",
     "text": [
      "Requirement already satisfied: opencv-python in ./venv/lib/python3.12/site-packages (4.9.0.80)\n",
      "Requirement already satisfied: numpy>=1.21.2 in ./venv/lib/python3.12/site-packages (from opencv-python) (1.26.4)\n"
     ]
    }
   ],
   "source": [
    "!pip3 install opencv-python"
   ]
  },
  {
   "cell_type": "code",
   "execution_count": 4,
   "metadata": {},
   "outputs": [],
   "source": [
    "# Import opencv\n",
    "import cv2 \n",
    "\n",
    "# Import uuid\n",
    "import uuid\n",
    "\n",
    "# Import Operating System\n",
    "import os\n",
    "\n",
    "# Import time\n",
    "import time"
   ]
  },
  {
   "cell_type": "markdown",
   "metadata": {},
   "source": [
    "Image Labelling"
   ]
  },
  {
   "cell_type": "markdown",
   "metadata": {},
   "source": [
    "Code below works on macOS"
   ]
  },
  {
   "cell_type": "code",
   "execution_count": 17,
   "metadata": {},
   "outputs": [
    {
     "name": "stdout",
     "output_type": "stream",
     "text": [
      "venv/lib/python3.12/site-packages/labelImg\n"
     ]
    }
   ],
   "source": [
    "LABELIMG_PATH = os.path.join('venv/lib/python3.12/site-packages/labelImg')\n",
    "if not os.path.exists(LABELIMG_PATH):\n",
    "    !mkdir {LABELIMG_PATH}\n",
    "print(LABELIMG_PATH)"
   ]
  },
  {
   "cell_type": "code",
   "execution_count": 27,
   "metadata": {},
   "outputs": [
    {
     "name": "stdout",
     "output_type": "stream",
     "text": [
      "Requirement already satisfied: labelImg in ./venv/lib/python3.12/site-packages (1.8.6)\n",
      "Requirement already satisfied: pyqt5 in ./venv/lib/python3.12/site-packages (from labelImg) (5.15.10)\n",
      "Requirement already satisfied: lxml in ./venv/lib/python3.12/site-packages (from labelImg) (5.2.2)\n",
      "Requirement already satisfied: PyQt5-sip<13,>=12.13 in ./venv/lib/python3.12/site-packages (from pyqt5->labelImg) (12.13.0)\n",
      "Requirement already satisfied: PyQt5-Qt5>=5.15.2 in ./venv/lib/python3.12/site-packages (from pyqt5->labelImg) (5.15.13)\n",
      "Requirement already satisfied: pyqt5 in ./venv/lib/python3.12/site-packages (5.15.10)\n",
      "Requirement already satisfied: lxml in ./venv/lib/python3.12/site-packages (5.2.2)\n",
      "Requirement already satisfied: PyQt5-sip<13,>=12.13 in ./venv/lib/python3.12/site-packages (from pyqt5) (12.13.0)\n",
      "Requirement already satisfied: PyQt5-Qt5>=5.15.2 in ./venv/lib/python3.12/site-packages (from pyqt5) (5.15.13)\n",
      "make: *** No rule to make target `qt5py3'.  Stop.\n",
      "2024-05-16 02:00:18.152 Python[98803:3830451] WARNING: Secure coding is not enabled for restorable state! Enable secure coding by implementing NSApplicationDelegate.applicationSupportsSecureRestorableState: and returning YES.\n",
      "Cancel creation.\n",
      "Cancel creation.\n",
      "Image:/Users/kot/Documents/Projects/Cell_Counting_NET%/data/neutrophil/BNE_715.jpg -> Annotation:/Users/kot/Documents/Projects/Cell_Counting_NET%/data/neutrophil/BNE_715.xml\n"
     ]
    }
   ],
   "source": [
    "!pip3 install labelImg\n",
    "!pip3 install pyqt5 lxml # Install qt and lxml by pip\n",
    "\n",
    "!make qt5py3\n",
    "\n",
    "!cd {LABELIMG_PATH} && python labelImg.py"
   ]
  },
  {
   "cell_type": "markdown",
   "metadata": {},
   "source": [
    "Code below works for windows:"
   ]
  },
  {
   "cell_type": "markdown",
   "metadata": {},
   "source": [
    "uuh"
   ]
  }
 ],
 "metadata": {
  "kernelspec": {
   "display_name": "venv",
   "language": "python",
   "name": "python3"
  },
  "language_info": {
   "codemirror_mode": {
    "name": "ipython",
    "version": 3
   },
   "file_extension": ".py",
   "mimetype": "text/x-python",
   "name": "python",
   "nbconvert_exporter": "python",
   "pygments_lexer": "ipython3",
   "version": "3.12.3"
  }
 },
 "nbformat": 4,
 "nbformat_minor": 2
}
